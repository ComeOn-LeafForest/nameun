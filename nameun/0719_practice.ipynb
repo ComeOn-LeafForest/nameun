{
 "cells": [
  {
   "cell_type": "markdown",
   "metadata": {},
   "source": [
    "### 속성 간의 관계 분석\n",
    "|데이터|요약 통계|시각화|\n",
    "|:------:|:---:|:---:|\n",
    "|범주형-범주형|교차 테이블|모자이크 플롯|\n",
    "|수치형-범주형|카테고리별 통계 값|박스 플롯|\n",
    "|수치형-수치형|상관계수|산점도|"
   ]
  },
  {
   "cell_type": "code",
   "execution_count": null,
   "metadata": {},
   "outputs": [],
   "source": []
  }
 ],
 "metadata": {
  "kernelspec": {
   "display_name": "Python 3",
   "language": "python",
   "name": "python3"
  },
  "language_info": {
   "codemirror_mode": {
    "name": "ipython",
    "version": 3
   },
   "file_extension": ".py",
   "mimetype": "text/x-python",
   "name": "python",
   "nbconvert_exporter": "python",
   "pygments_lexer": "ipython3",
   "version": "3.8.5"
  }
 },
 "nbformat": 4,
 "nbformat_minor": 4
}
