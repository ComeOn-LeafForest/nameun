{
 "cells": [
  {
   "cell_type": "code",
   "execution_count": 12,
   "metadata": {},
   "outputs": [],
   "source": [
    "import pandas as pd #Analysis \n",
    "import numpy as np #Analysis \n",
    "import matplotlib.pyplot as plt #Visulization\n",
    "import seaborn as sns #Visulization\n",
    "\n",
    "# 한글설정\n",
    "from matplotlib import font_manager, rc \n",
    "font_path = \"C:/Windows/Fonts/NGULIM.TTF\"\n",
    "font = font_manager.FontProperties(fname=font_path).get_name()\n",
    "rc('font', family=font)\n",
    "\n",
    "import warnings\n",
    "warnings.filterwarnings(\"ignore\")"
   ]
  },
  {
   "cell_type": "markdown",
   "metadata": {},
   "source": [
    "### 데이터 불러오기"
   ]
  },
  {
   "cell_type": "code",
   "execution_count": 13,
   "metadata": {},
   "outputs": [
    {
     "data": {
      "text/plain": [
       "((2952, 15), (1022, 14), (150, 2), (16, 23))"
      ]
     },
     "execution_count": 13,
     "metadata": {},
     "output_type": "execute_result"
    }
   ],
   "source": [
    "train = pd.read_csv('../data/train.csv')\n",
    "test = pd.read_csv('../data/test.csv')\n",
    "sub = pd.read_csv('../data/sample_submission.csv')\n",
    "age = pd.read_csv('../data/age_gender_info.csv')\n",
    "\n",
    "train.shape, test.shape, sub.shape, age.shape"
   ]
  },
  {
   "cell_type": "markdown",
   "metadata": {},
   "source": [
    "### 데이터 프레임 컬러명 수정(긴 이름들이 있어서)"
   ]
  },
  {
   "cell_type": "code",
   "execution_count": 14,
   "metadata": {},
   "outputs": [],
   "source": [
    "train.columns = ['단지코드', '총세대수', '임대건물구분', '지역', '공급유형', '전용면적', '전용면적별세대수', '공가수',\n",
    "       '자격유형', '임대보증금', '임대료', '10분내지하철수',\n",
    "       '10분내버스정류장수', '단지내주차면수', '등록차량수']\n",
    "\n",
    "test.columns = ['단지코드', '총세대수', '임대건물구분', '지역', '공급유형', '전용면적', '전용면적별세대수', '공가수',\n",
    "       '자격유형', '임대보증금', '임대료', '10분내지하철수',\n",
    "       '10분내버스정류장수', '단지내주차면수']"
   ]
  },
  {
   "cell_type": "markdown",
   "metadata": {},
   "source": [
    "### 데이터 오류로 인한 데이터 제외"
   ]
  },
  {
   "cell_type": "markdown",
   "metadata": {},
   "source": [
    "##### 1. 테스트셋에서 평가 제외되는 데이터는 'C2675'(2번 사항에 해당), 'C2335', 'C1327'(3번 사항에 해당) 3개 단지입니다."
   ]
  },
  {
   "cell_type": "code",
   "execution_count": 15,
   "metadata": {},
   "outputs": [
    {
     "data": {
      "text/plain": [
       "423"
      ]
     },
     "execution_count": 15,
     "metadata": {},
     "output_type": "execute_result"
    }
   ],
   "source": [
    "len(train['단지코드'].unique())"
   ]
  },
  {
   "cell_type": "markdown",
   "metadata": {},
   "source": [
    "##### train에서 해당 데이터를 확인"
   ]
  },
  {
   "cell_type": "code",
   "execution_count": 16,
   "metadata": {},
   "outputs": [
    {
     "data": {
      "text/html": [
       "<div>\n",
       "<style scoped>\n",
       "    .dataframe tbody tr th:only-of-type {\n",
       "        vertical-align: middle;\n",
       "    }\n",
       "\n",
       "    .dataframe tbody tr th {\n",
       "        vertical-align: top;\n",
       "    }\n",
       "\n",
       "    .dataframe thead th {\n",
       "        text-align: right;\n",
       "    }\n",
       "</style>\n",
       "<table border=\"1\" class=\"dataframe\">\n",
       "  <thead>\n",
       "    <tr style=\"text-align: right;\">\n",
       "      <th></th>\n",
       "      <th>단지코드</th>\n",
       "      <th>총세대수</th>\n",
       "      <th>임대건물구분</th>\n",
       "      <th>지역</th>\n",
       "      <th>공급유형</th>\n",
       "      <th>전용면적</th>\n",
       "      <th>전용면적별세대수</th>\n",
       "      <th>공가수</th>\n",
       "      <th>자격유형</th>\n",
       "      <th>임대보증금</th>\n",
       "      <th>임대료</th>\n",
       "      <th>10분내지하철수</th>\n",
       "      <th>10분내버스정류장수</th>\n",
       "      <th>단지내주차면수</th>\n",
       "      <th>등록차량수</th>\n",
       "    </tr>\n",
       "  </thead>\n",
       "  <tbody>\n",
       "  </tbody>\n",
       "</table>\n",
       "</div>"
      ],
      "text/plain": [
       "Empty DataFrame\n",
       "Columns: [단지코드, 총세대수, 임대건물구분, 지역, 공급유형, 전용면적, 전용면적별세대수, 공가수, 자격유형, 임대보증금, 임대료, 10분내지하철수, 10분내버스정류장수, 단지내주차면수, 등록차량수]\n",
       "Index: []"
      ]
     },
     "execution_count": 16,
     "metadata": {},
     "output_type": "execute_result"
    }
   ],
   "source": [
    "train.loc[((train['단지코드'] == 'C2675')|\n",
    "          (train['단지코드'] == 'C2335')|\n",
    "          (train['단지코드'] == 'C1327')),:]"
   ]
  },
  {
   "cell_type": "markdown",
   "metadata": {},
   "source": [
    "##### test에서 해당 데이터 확인"
   ]
  },
  {
   "cell_type": "code",
   "execution_count": 17,
   "metadata": {},
   "outputs": [
    {
     "data": {
      "text/html": [
       "<div>\n",
       "<style scoped>\n",
       "    .dataframe tbody tr th:only-of-type {\n",
       "        vertical-align: middle;\n",
       "    }\n",
       "\n",
       "    .dataframe tbody tr th {\n",
       "        vertical-align: top;\n",
       "    }\n",
       "\n",
       "    .dataframe thead th {\n",
       "        text-align: right;\n",
       "    }\n",
       "</style>\n",
       "<table border=\"1\" class=\"dataframe\">\n",
       "  <thead>\n",
       "    <tr style=\"text-align: right;\">\n",
       "      <th></th>\n",
       "      <th>단지코드</th>\n",
       "      <th>총세대수</th>\n",
       "      <th>임대건물구분</th>\n",
       "      <th>지역</th>\n",
       "      <th>공급유형</th>\n",
       "      <th>전용면적</th>\n",
       "      <th>전용면적별세대수</th>\n",
       "      <th>공가수</th>\n",
       "      <th>자격유형</th>\n",
       "      <th>임대보증금</th>\n",
       "      <th>임대료</th>\n",
       "      <th>10분내지하철수</th>\n",
       "      <th>10분내버스정류장수</th>\n",
       "      <th>단지내주차면수</th>\n",
       "    </tr>\n",
       "  </thead>\n",
       "  <tbody>\n",
       "    <tr>\n",
       "      <th>579</th>\n",
       "      <td>C2675</td>\n",
       "      <td>512</td>\n",
       "      <td>아파트</td>\n",
       "      <td>경기도</td>\n",
       "      <td>국민임대</td>\n",
       "      <td>36.65</td>\n",
       "      <td>130</td>\n",
       "      <td>9.0</td>\n",
       "      <td>A</td>\n",
       "      <td>18476000</td>\n",
       "      <td>154790</td>\n",
       "      <td>0.0</td>\n",
       "      <td>3.0</td>\n",
       "      <td>1016.0</td>\n",
       "    </tr>\n",
       "    <tr>\n",
       "      <th>580</th>\n",
       "      <td>C2675</td>\n",
       "      <td>512</td>\n",
       "      <td>아파트</td>\n",
       "      <td>경기도</td>\n",
       "      <td>국민임대</td>\n",
       "      <td>46.90</td>\n",
       "      <td>44</td>\n",
       "      <td>9.0</td>\n",
       "      <td>A</td>\n",
       "      <td>34082000</td>\n",
       "      <td>232200</td>\n",
       "      <td>0.0</td>\n",
       "      <td>3.0</td>\n",
       "      <td>1016.0</td>\n",
       "    </tr>\n",
       "    <tr>\n",
       "      <th>581</th>\n",
       "      <td>C2675</td>\n",
       "      <td>512</td>\n",
       "      <td>아파트</td>\n",
       "      <td>경기도</td>\n",
       "      <td>국민임대</td>\n",
       "      <td>46.90</td>\n",
       "      <td>80</td>\n",
       "      <td>9.0</td>\n",
       "      <td>A</td>\n",
       "      <td>34082000</td>\n",
       "      <td>232200</td>\n",
       "      <td>0.0</td>\n",
       "      <td>3.0</td>\n",
       "      <td>1016.0</td>\n",
       "    </tr>\n",
       "    <tr>\n",
       "      <th>582</th>\n",
       "      <td>C2675</td>\n",
       "      <td>512</td>\n",
       "      <td>아파트</td>\n",
       "      <td>경기도</td>\n",
       "      <td>국민임대</td>\n",
       "      <td>46.90</td>\n",
       "      <td>50</td>\n",
       "      <td>9.0</td>\n",
       "      <td>A</td>\n",
       "      <td>34082000</td>\n",
       "      <td>232200</td>\n",
       "      <td>0.0</td>\n",
       "      <td>3.0</td>\n",
       "      <td>1016.0</td>\n",
       "    </tr>\n",
       "    <tr>\n",
       "      <th>583</th>\n",
       "      <td>C2675</td>\n",
       "      <td>512</td>\n",
       "      <td>아파트</td>\n",
       "      <td>경기도</td>\n",
       "      <td>국민임대</td>\n",
       "      <td>46.90</td>\n",
       "      <td>88</td>\n",
       "      <td>9.0</td>\n",
       "      <td>A</td>\n",
       "      <td>34082000</td>\n",
       "      <td>232200</td>\n",
       "      <td>0.0</td>\n",
       "      <td>3.0</td>\n",
       "      <td>1016.0</td>\n",
       "    </tr>\n",
       "    <tr>\n",
       "      <th>584</th>\n",
       "      <td>C2675</td>\n",
       "      <td>512</td>\n",
       "      <td>아파트</td>\n",
       "      <td>경기도</td>\n",
       "      <td>국민임대</td>\n",
       "      <td>47.40</td>\n",
       "      <td>30</td>\n",
       "      <td>9.0</td>\n",
       "      <td>A</td>\n",
       "      <td>34082000</td>\n",
       "      <td>232200</td>\n",
       "      <td>0.0</td>\n",
       "      <td>3.0</td>\n",
       "      <td>1016.0</td>\n",
       "    </tr>\n",
       "    <tr>\n",
       "      <th>585</th>\n",
       "      <td>C2675</td>\n",
       "      <td>512</td>\n",
       "      <td>아파트</td>\n",
       "      <td>경기도</td>\n",
       "      <td>국민임대</td>\n",
       "      <td>51.93</td>\n",
       "      <td>75</td>\n",
       "      <td>9.0</td>\n",
       "      <td>A</td>\n",
       "      <td>43819000</td>\n",
       "      <td>275900</td>\n",
       "      <td>0.0</td>\n",
       "      <td>3.0</td>\n",
       "      <td>1016.0</td>\n",
       "    </tr>\n",
       "    <tr>\n",
       "      <th>586</th>\n",
       "      <td>C2675</td>\n",
       "      <td>512</td>\n",
       "      <td>아파트</td>\n",
       "      <td>경기도</td>\n",
       "      <td>국민임대</td>\n",
       "      <td>51.93</td>\n",
       "      <td>15</td>\n",
       "      <td>9.0</td>\n",
       "      <td>A</td>\n",
       "      <td>43819000</td>\n",
       "      <td>275900</td>\n",
       "      <td>0.0</td>\n",
       "      <td>3.0</td>\n",
       "      <td>1016.0</td>\n",
       "    </tr>\n",
       "    <tr>\n",
       "      <th>891</th>\n",
       "      <td>C1327</td>\n",
       "      <td>98</td>\n",
       "      <td>아파트</td>\n",
       "      <td>대전광역시</td>\n",
       "      <td>행복주택</td>\n",
       "      <td>16.83</td>\n",
       "      <td>30</td>\n",
       "      <td>13.0</td>\n",
       "      <td>J</td>\n",
       "      <td>18800000</td>\n",
       "      <td>94000</td>\n",
       "      <td>NaN</td>\n",
       "      <td>17.0</td>\n",
       "      <td>98.0</td>\n",
       "    </tr>\n",
       "    <tr>\n",
       "      <th>892</th>\n",
       "      <td>C1327</td>\n",
       "      <td>98</td>\n",
       "      <td>아파트</td>\n",
       "      <td>대전광역시</td>\n",
       "      <td>행복주택</td>\n",
       "      <td>26.51</td>\n",
       "      <td>10</td>\n",
       "      <td>13.0</td>\n",
       "      <td>J</td>\n",
       "      <td>28400000</td>\n",
       "      <td>142000</td>\n",
       "      <td>NaN</td>\n",
       "      <td>17.0</td>\n",
       "      <td>98.0</td>\n",
       "    </tr>\n",
       "    <tr>\n",
       "      <th>893</th>\n",
       "      <td>C1327</td>\n",
       "      <td>98</td>\n",
       "      <td>아파트</td>\n",
       "      <td>대전광역시</td>\n",
       "      <td>행복주택</td>\n",
       "      <td>26.51</td>\n",
       "      <td>10</td>\n",
       "      <td>13.0</td>\n",
       "      <td>J</td>\n",
       "      <td>28400000</td>\n",
       "      <td>142000</td>\n",
       "      <td>NaN</td>\n",
       "      <td>17.0</td>\n",
       "      <td>98.0</td>\n",
       "    </tr>\n",
       "    <tr>\n",
       "      <th>894</th>\n",
       "      <td>C1327</td>\n",
       "      <td>98</td>\n",
       "      <td>아파트</td>\n",
       "      <td>대전광역시</td>\n",
       "      <td>행복주택</td>\n",
       "      <td>36.92</td>\n",
       "      <td>48</td>\n",
       "      <td>13.0</td>\n",
       "      <td>J</td>\n",
       "      <td>36800000</td>\n",
       "      <td>184000</td>\n",
       "      <td>NaN</td>\n",
       "      <td>17.0</td>\n",
       "      <td>98.0</td>\n",
       "    </tr>\n",
       "    <tr>\n",
       "      <th>953</th>\n",
       "      <td>C2335</td>\n",
       "      <td>112</td>\n",
       "      <td>아파트</td>\n",
       "      <td>전라북도</td>\n",
       "      <td>영구임대</td>\n",
       "      <td>19.95</td>\n",
       "      <td>84</td>\n",
       "      <td>3.0</td>\n",
       "      <td>C</td>\n",
       "      <td>2312000</td>\n",
       "      <td>51450</td>\n",
       "      <td>0.0</td>\n",
       "      <td>1.0</td>\n",
       "      <td>636.0</td>\n",
       "    </tr>\n",
       "    <tr>\n",
       "      <th>954</th>\n",
       "      <td>C2335</td>\n",
       "      <td>112</td>\n",
       "      <td>아파트</td>\n",
       "      <td>전라북도</td>\n",
       "      <td>영구임대</td>\n",
       "      <td>26.85</td>\n",
       "      <td>28</td>\n",
       "      <td>3.0</td>\n",
       "      <td>C</td>\n",
       "      <td>3111000</td>\n",
       "      <td>69240</td>\n",
       "      <td>0.0</td>\n",
       "      <td>1.0</td>\n",
       "      <td>636.0</td>\n",
       "    </tr>\n",
       "  </tbody>\n",
       "</table>\n",
       "</div>"
      ],
      "text/plain": [
       "      단지코드  총세대수 임대건물구분     지역  공급유형   전용면적  전용면적별세대수   공가수 자격유형     임대보증금  \\\n",
       "579  C2675   512    아파트    경기도  국민임대  36.65       130   9.0    A  18476000   \n",
       "580  C2675   512    아파트    경기도  국민임대  46.90        44   9.0    A  34082000   \n",
       "581  C2675   512    아파트    경기도  국민임대  46.90        80   9.0    A  34082000   \n",
       "582  C2675   512    아파트    경기도  국민임대  46.90        50   9.0    A  34082000   \n",
       "583  C2675   512    아파트    경기도  국민임대  46.90        88   9.0    A  34082000   \n",
       "584  C2675   512    아파트    경기도  국민임대  47.40        30   9.0    A  34082000   \n",
       "585  C2675   512    아파트    경기도  국민임대  51.93        75   9.0    A  43819000   \n",
       "586  C2675   512    아파트    경기도  국민임대  51.93        15   9.0    A  43819000   \n",
       "891  C1327    98    아파트  대전광역시  행복주택  16.83        30  13.0    J  18800000   \n",
       "892  C1327    98    아파트  대전광역시  행복주택  26.51        10  13.0    J  28400000   \n",
       "893  C1327    98    아파트  대전광역시  행복주택  26.51        10  13.0    J  28400000   \n",
       "894  C1327    98    아파트  대전광역시  행복주택  36.92        48  13.0    J  36800000   \n",
       "953  C2335   112    아파트   전라북도  영구임대  19.95        84   3.0    C   2312000   \n",
       "954  C2335   112    아파트   전라북도  영구임대  26.85        28   3.0    C   3111000   \n",
       "\n",
       "        임대료  10분내지하철수  10분내버스정류장수  단지내주차면수  \n",
       "579  154790       0.0         3.0   1016.0  \n",
       "580  232200       0.0         3.0   1016.0  \n",
       "581  232200       0.0         3.0   1016.0  \n",
       "582  232200       0.0         3.0   1016.0  \n",
       "583  232200       0.0         3.0   1016.0  \n",
       "584  232200       0.0         3.0   1016.0  \n",
       "585  275900       0.0         3.0   1016.0  \n",
       "586  275900       0.0         3.0   1016.0  \n",
       "891   94000       NaN        17.0     98.0  \n",
       "892  142000       NaN        17.0     98.0  \n",
       "893  142000       NaN        17.0     98.0  \n",
       "894  184000       NaN        17.0     98.0  \n",
       "953   51450       0.0         1.0    636.0  \n",
       "954   69240       0.0         1.0    636.0  "
      ]
     },
     "execution_count": 17,
     "metadata": {},
     "output_type": "execute_result"
    }
   ],
   "source": [
    "test.loc[((test['단지코드'] == 'C2675')|\n",
    "          (test['단지코드'] == 'C2335')|\n",
    "          (test['단지코드'] == 'C1327')),:]"
   ]
  },
  {
   "cell_type": "markdown",
   "metadata": {},
   "source": [
    "##### test에서 3개의 코드 데이터 삭제"
   ]
  },
  {
   "cell_type": "code",
   "execution_count": 18,
   "metadata": {},
   "outputs": [],
   "source": [
    "test = test.loc[~((test['단지코드'] == 'C2675')|\n",
    "               (test['단지코드'] == 'C2335')|\n",
    "               (test['단지코드'] == 'C1327')),:]"
   ]
  },
  {
   "cell_type": "markdown",
   "metadata": {},
   "source": [
    "##### 확인"
   ]
  },
  {
   "cell_type": "code",
   "execution_count": 19,
   "metadata": {},
   "outputs": [
    {
     "data": {
      "text/html": [
       "<div>\n",
       "<style scoped>\n",
       "    .dataframe tbody tr th:only-of-type {\n",
       "        vertical-align: middle;\n",
       "    }\n",
       "\n",
       "    .dataframe tbody tr th {\n",
       "        vertical-align: top;\n",
       "    }\n",
       "\n",
       "    .dataframe thead th {\n",
       "        text-align: right;\n",
       "    }\n",
       "</style>\n",
       "<table border=\"1\" class=\"dataframe\">\n",
       "  <thead>\n",
       "    <tr style=\"text-align: right;\">\n",
       "      <th></th>\n",
       "      <th>단지코드</th>\n",
       "      <th>총세대수</th>\n",
       "      <th>임대건물구분</th>\n",
       "      <th>지역</th>\n",
       "      <th>공급유형</th>\n",
       "      <th>전용면적</th>\n",
       "      <th>전용면적별세대수</th>\n",
       "      <th>공가수</th>\n",
       "      <th>자격유형</th>\n",
       "      <th>임대보증금</th>\n",
       "      <th>임대료</th>\n",
       "      <th>10분내지하철수</th>\n",
       "      <th>10분내버스정류장수</th>\n",
       "      <th>단지내주차면수</th>\n",
       "    </tr>\n",
       "  </thead>\n",
       "  <tbody>\n",
       "  </tbody>\n",
       "</table>\n",
       "</div>"
      ],
      "text/plain": [
       "Empty DataFrame\n",
       "Columns: [단지코드, 총세대수, 임대건물구분, 지역, 공급유형, 전용면적, 전용면적별세대수, 공가수, 자격유형, 임대보증금, 임대료, 10분내지하철수, 10분내버스정류장수, 단지내주차면수]\n",
       "Index: []"
      ]
     },
     "execution_count": 19,
     "metadata": {},
     "output_type": "execute_result"
    }
   ],
   "source": [
    "test.loc[((test['단지코드'] == 'C2675')|\n",
    "          (test['단지코드'] == 'C2335')|\n",
    "          (test['단지코드'] == 'C1327')),:]"
   ]
  },
  {
   "cell_type": "markdown",
   "metadata": {},
   "source": [
    "##### 2. 동일한 단지에 코드가 2개로 부여된 단지 코드 (3쌍) : ['C2085', 'C1397'], ['C2431', 'C1649'], ['C1036', 'C2675']\n",
    "##### (참고 사항) 주차면수는 하나의 단지임을 전제로 산정된 것이고 총세대수는 두 개 단지의 합계입니다. 다만 등록차량대수는 ['C2085', 'C1397'] 단지의 경우 동일 수치"
   ]
  },
  {
   "cell_type": "code",
   "execution_count": 48,
   "metadata": {},
   "outputs": [],
   "source": [
    "train.loc[train['단지코드'] == 'C2085', '총세대수'] = 1339\n",
    "train.loc[train['단지코드'] == 'C1397', '총세대수'] = 1339"
   ]
  },
  {
   "cell_type": "code",
   "execution_count": 49,
   "metadata": {},
   "outputs": [
    {
     "data": {
      "text/html": [
       "<div>\n",
       "<style scoped>\n",
       "    .dataframe tbody tr th:only-of-type {\n",
       "        vertical-align: middle;\n",
       "    }\n",
       "\n",
       "    .dataframe tbody tr th {\n",
       "        vertical-align: top;\n",
       "    }\n",
       "\n",
       "    .dataframe thead th {\n",
       "        text-align: right;\n",
       "    }\n",
       "</style>\n",
       "<table border=\"1\" class=\"dataframe\">\n",
       "  <thead>\n",
       "    <tr style=\"text-align: right;\">\n",
       "      <th></th>\n",
       "      <th>단지코드</th>\n",
       "      <th>총세대수</th>\n",
       "    </tr>\n",
       "  </thead>\n",
       "  <tbody>\n",
       "    <tr>\n",
       "      <th>0</th>\n",
       "      <td>C2483</td>\n",
       "      <td>900</td>\n",
       "    </tr>\n",
       "    <tr>\n",
       "      <th>1</th>\n",
       "      <td>C2483</td>\n",
       "      <td>900</td>\n",
       "    </tr>\n",
       "    <tr>\n",
       "      <th>2</th>\n",
       "      <td>C2483</td>\n",
       "      <td>900</td>\n",
       "    </tr>\n",
       "    <tr>\n",
       "      <th>3</th>\n",
       "      <td>C2483</td>\n",
       "      <td>900</td>\n",
       "    </tr>\n",
       "    <tr>\n",
       "      <th>4</th>\n",
       "      <td>C2483</td>\n",
       "      <td>900</td>\n",
       "    </tr>\n",
       "    <tr>\n",
       "      <th>...</th>\n",
       "      <td>...</td>\n",
       "      <td>...</td>\n",
       "    </tr>\n",
       "    <tr>\n",
       "      <th>2947</th>\n",
       "      <td>C2532</td>\n",
       "      <td>239</td>\n",
       "    </tr>\n",
       "    <tr>\n",
       "      <th>2948</th>\n",
       "      <td>C2532</td>\n",
       "      <td>239</td>\n",
       "    </tr>\n",
       "    <tr>\n",
       "      <th>2949</th>\n",
       "      <td>C2532</td>\n",
       "      <td>239</td>\n",
       "    </tr>\n",
       "    <tr>\n",
       "      <th>2950</th>\n",
       "      <td>C2532</td>\n",
       "      <td>239</td>\n",
       "    </tr>\n",
       "    <tr>\n",
       "      <th>2951</th>\n",
       "      <td>C2532</td>\n",
       "      <td>239</td>\n",
       "    </tr>\n",
       "  </tbody>\n",
       "</table>\n",
       "<p>2952 rows × 2 columns</p>\n",
       "</div>"
      ],
      "text/plain": [
       "       단지코드  총세대수\n",
       "0     C2483   900\n",
       "1     C2483   900\n",
       "2     C2483   900\n",
       "3     C2483   900\n",
       "4     C2483   900\n",
       "...     ...   ...\n",
       "2947  C2532   239\n",
       "2948  C2532   239\n",
       "2949  C2532   239\n",
       "2950  C2532   239\n",
       "2951  C2532   239\n",
       "\n",
       "[2952 rows x 2 columns]"
      ]
     },
     "execution_count": 49,
     "metadata": {},
     "output_type": "execute_result"
    }
   ],
   "source": [
    "c = train.loc[:, ['단지코드','총세대수']]\n",
    "c"
   ]
  },
  {
   "cell_type": "code",
   "execution_count": 41,
   "metadata": {},
   "outputs": [
    {
     "name": "stdout",
     "output_type": "stream",
     "text": [
      "(8, 15)\n",
      "(6, 15)\n"
     ]
    }
   ],
   "source": [
    "print(train.loc[ train['단지코드']=='C2085', : ].shape)\n",
    "print(train.loc[ train['단지코드']=='C1397', : ].shape)"
   ]
  },
  {
   "cell_type": "markdown",
   "metadata": {},
   "source": [
    "##### 단지코드를 C2085, C1397 => N2085로 변경"
   ]
  },
  {
   "cell_type": "code",
   "execution_count": 42,
   "metadata": {},
   "outputs": [],
   "source": [
    "train.loc[ train['단지코드']=='C2085',  \"단지코드\" ] = 'N2085'\n",
    "train.loc[ train['단지코드']=='C1397',  \"단지코드\" ] = 'N2085'"
   ]
  },
  {
   "cell_type": "code",
   "execution_count": 43,
   "metadata": {},
   "outputs": [
    {
     "data": {
      "text/plain": [
       "(14, 15)"
      ]
     },
     "execution_count": 43,
     "metadata": {},
     "output_type": "execute_result"
    }
   ],
   "source": [
    "train.loc[ train['단지코드']=='N2085', : ].shape"
   ]
  },
  {
   "cell_type": "markdown",
   "metadata": {},
   "source": [
    "##### 오류 코드 변경"
   ]
  },
  {
   "cell_type": "markdown",
   "metadata": {},
   "source": [
    "##### C2431, C1649의 총세대수를 1047로 변경\n",
    "##### C2431, C1649의 등록차량대수를 1214로 변경\n",
    "##### C2431, C1649의 단지코드를 N2431로 변경"
   ]
  },
  {
   "cell_type": "code",
   "execution_count": 50,
   "metadata": {},
   "outputs": [
    {
     "name": "stdout",
     "output_type": "stream",
     "text": [
      "(2, 15) (4, 15)\n",
      "2372    472\n",
      "2373    472\n",
      "Name: 총세대수, dtype: int64 2315    575\n",
      "2316    575\n",
      "2317    575\n",
      "2318    575\n",
      "Name: 총세대수, dtype: int64\n",
      "2372    359.0\n",
      "2373    359.0\n",
      "Name: 등록차량수, dtype: float64 2315    855.0\n",
      "2316    855.0\n",
      "2317    855.0\n",
      "2318    855.0\n",
      "Name: 등록차량수, dtype: float64\n"
     ]
    }
   ],
   "source": [
    "a = train.loc[ train['단지코드']=='C2431', : ]\n",
    "b = train.loc[ train['단지코드']=='C1649', : ]\n",
    "\n",
    "print(  a.shape, b.shape )\n",
    "print( a['총세대수'], b['총세대수'])\n",
    "print( a['등록차량수'], b['등록차량수'])"
   ]
  },
  {
   "cell_type": "code",
   "execution_count": 51,
   "metadata": {},
   "outputs": [],
   "source": [
    "train.loc[ train['단지코드']=='C2431',  \"총세대수\" ] = 1047\n",
    "train.loc[ train['단지코드']=='C1649',  \"총세대수\" ] = 1047\n",
    "\n",
    "train.loc[ train['단지코드']=='C2431',  \"등록차량수\" ] = 1214\n",
    "train.loc[ train['단지코드']=='C1649',  \"등록차량수\" ] = 1214\n",
    "\n",
    "train.loc[ train['단지코드']=='C2431',  \"단지코드\" ] = 'N2431'\n",
    "train.loc[ train['단지코드']=='C1649',  \"단지코드\" ] = 'N2431'"
   ]
  },
  {
   "cell_type": "code",
   "execution_count": 52,
   "metadata": {},
   "outputs": [
    {
     "data": {
      "text/plain": [
       "(6, 15)"
      ]
     },
     "execution_count": 52,
     "metadata": {},
     "output_type": "execute_result"
    }
   ],
   "source": [
    "train.loc[ train['단지코드']=='N2431', : ].shape"
   ]
  },
  {
   "cell_type": "markdown",
   "metadata": {},
   "source": [
    "##### C1036의 총세대수를 1243로 변경"
   ]
  },
  {
   "cell_type": "markdown",
   "metadata": {},
   "source": [
    "##### C1036의 단지코드를 N1036로 변경"
   ]
  },
  {
   "cell_type": "code",
   "execution_count": 53,
   "metadata": {},
   "outputs": [
    {
     "data": {
      "text/plain": [
       "((0, 15), (7, 15))"
      ]
     },
     "execution_count": 53,
     "metadata": {},
     "output_type": "execute_result"
    }
   ],
   "source": [
    "a = train.loc[ train['단지코드']=='C2675', : ]\n",
    "b = train.loc[ train['단지코드']=='C1036', : ]\n",
    "a.shape, b.shape"
   ]
  },
  {
   "cell_type": "code",
   "execution_count": 54,
   "metadata": {},
   "outputs": [],
   "source": [
    "train.loc[ train['단지코드']=='C1036',  \"총세대수\" ] = 1243\n",
    "train.loc[ train['단지코드']=='C1036',  \"단지코드\" ] = 'N1036'"
   ]
  },
  {
   "cell_type": "code",
   "execution_count": 55,
   "metadata": {},
   "outputs": [
    {
     "data": {
      "text/plain": [
       "(7, 15)"
      ]
     },
     "execution_count": 55,
     "metadata": {},
     "output_type": "execute_result"
    }
   ],
   "source": [
    "train.loc[ train['단지코드']=='N1036', : ].shape"
   ]
  },
  {
   "cell_type": "code",
   "execution_count": null,
   "metadata": {},
   "outputs": [],
   "source": []
  }
 ],
 "metadata": {
  "kernelspec": {
   "display_name": "Python 3",
   "language": "python",
   "name": "python3"
  },
  "language_info": {
   "codemirror_mode": {
    "name": "ipython",
    "version": 3
   },
   "file_extension": ".py",
   "mimetype": "text/x-python",
   "name": "python",
   "nbconvert_exporter": "python",
   "pygments_lexer": "ipython3",
   "version": "3.8.5"
  }
 },
 "nbformat": 4,
 "nbformat_minor": 4
}
