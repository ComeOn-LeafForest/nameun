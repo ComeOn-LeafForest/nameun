{
 "cells": [
  {
   "cell_type": "code",
   "execution_count": 1,
   "metadata": {},
   "outputs": [],
   "source": [
    "import pandas as pd\n",
    "import matplotlib.pyplot as plt\n",
    "import seaborn as sns\n",
    "import numpy as np\n",
    "\n",
    "%matplotlib inline\n",
    "import matplotlib as mpl\n",
    "import matplotlib.pyplot as plt\n",
    "import matplotlib.font_manager as fm\n",
    "import copy\n",
    "\n",
    "font_path = \"C:/Windows/Fonts/MALGUN.TTF\"\n",
    "font_name = fm.FontProperties(fname=font_path).get_name()\n",
    "plt.rc('font', family=font_name)\n",
    "plt.rc('xtick', labelsize=10)\n",
    "mpl.rcParams['axes.unicode_minus'] = False"
   ]
  },
  {
   "cell_type": "code",
   "execution_count": 2,
   "metadata": {},
   "outputs": [],
   "source": [
    "train = pd.read_csv(\"../../../../data/Parking_Demand/train.csv\")\n",
    "test = pd.read_csv(\"../../../../data/Parking_Demand/test.csv\")\n",
    "sub = pd.read_csv(\"../../../../data/Parking_Demand/test.csv\")\n",
    "age = pd.read_csv(\"../../../../data/Parking_Demand/age_gender_info.csv\")"
   ]
  },
  {
   "cell_type": "code",
   "execution_count": 3,
   "metadata": {},
   "outputs": [],
   "source": [
    "train.columns = ['단지코드', '총세대수', '임대건물구분', '지역', '공급유형', \n",
    "                 '전용면적', '전용면적별세대수', '공가수', '신분', '임대보증금', \n",
    "                 '임대료', '지하철', '버스', '단지내주차면수', '등록차량수']\n",
    "\n",
    "test.columns = ['단지코드', '총세대수', '임대건물구분', '지역', '공급유형', \n",
    "                '전용면적', '전용면적별세대수', '공가수', '신분', '임대보증금', \n",
    "                '임대료', '지하철', '버스', '단지내주차면수']"
   ]
  },
  {
   "cell_type": "code",
   "execution_count": null,
   "metadata": {},
   "outputs": [],
   "source": []
  }
 ],
 "metadata": {
  "kernelspec": {
   "display_name": "Python 3",
   "language": "python",
   "name": "python3"
  },
  "language_info": {
   "codemirror_mode": {
    "name": "ipython",
    "version": 3
   },
   "file_extension": ".py",
   "mimetype": "text/x-python",
   "name": "python",
   "nbconvert_exporter": "python",
   "pygments_lexer": "ipython3",
   "version": "3.8.5"
  }
 },
 "nbformat": 4,
 "nbformat_minor": 4
}
